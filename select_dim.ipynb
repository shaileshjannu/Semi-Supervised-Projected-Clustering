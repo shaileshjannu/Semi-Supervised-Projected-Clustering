{
 "cells": [
  {
   "cell_type": "code",
   "execution_count": 1,
   "metadata": {},
   "outputs": [],
   "source": [
    "import numpy as np\n",
    "from pprint import pprint\n",
    "from utils import preprocess, select_dim, calc_selection_threshold"
   ]
  },
  {
   "cell_type": "code",
   "execution_count": 2,
   "metadata": {},
   "outputs": [
    {
     "name": "stderr",
     "output_type": "stream",
     "text": [
      "/home/jason/anaconda2/lib/python2.7/site-packages/sklearn/utils/validation.py:475: DataConversionWarning: Data with input dtype int64 was converted to float64 by the scale function.\n",
      "  warnings.warn(msg, DataConversionWarning)\n"
     ]
    }
   ],
   "source": [
    "data = preprocess('dataset_diabetes/diabetic_data.csv')\n",
    "N, V = data.shape"
   ]
  },
  {
   "cell_type": "code",
   "execution_count": 3,
   "metadata": {},
   "outputs": [
    {
     "data": {
      "text/plain": [
       "array([[-1.58733032, -1.19154543,  0.42755739, ...,  0.92659052,\n",
       "        -1.82986799,  0.8368795 ],\n",
       "       [-1.60807473,  0.03356374,  0.42755739, ..., -1.07922537,\n",
       "         0.54648751, -0.62496982],\n",
       "       [-1.60890073,  0.81965411, -1.70370587, ...,  0.92659052,\n",
       "         0.54648751,  0.8368795 ],\n",
       "       ...,\n",
       "       [ 2.71485842, -0.34219438,  0.42755739, ..., -1.07922537,\n",
       "         0.54648751,  0.8368795 ],\n",
       "       [ 2.71488782, -0.58498632,  0.42755739, ..., -1.07922537,\n",
       "         0.54648751,  0.8368795 ],\n",
       "       [ 2.71498579,  3.12948056,  0.42755739, ...,  0.92659052,\n",
       "        -1.82986799,  0.8368795 ]])"
      ]
     },
     "execution_count": 3,
     "metadata": {},
     "output_type": "execute_result"
    }
   ],
   "source": [
    "data"
   ]
  },
  {
   "cell_type": "code",
   "execution_count": 4,
   "metadata": {},
   "outputs": [],
   "source": [
    "selection_threshold = calc_selection_threshold(data, V)"
   ]
  },
  {
   "cell_type": "code",
   "execution_count": 5,
   "metadata": {},
   "outputs": [
    {
     "data": {
      "text/plain": [
       "array([1., 1., 0., 0., 1., 1., 1., 1., 1., 1., 1., 1., 0., 0., 1., 0., 1.,\n",
       "       1., 0., 1., 0., 0., 1., 1., 1., 1., 1., 1., 1., 1., 0., 1., 1., 1.,\n",
       "       1., 1., 1., 1., 1., 0., 0., 0., 1., 1., 1., 1., 1., 0., 1., 0.])"
      ]
     },
     "execution_count": 5,
     "metadata": {},
     "output_type": "execute_result"
    }
   ],
   "source": [
    "C = [[1, 2, 3], [9, 39, 43, 341], [32, 21, 432]]\n",
    "select_dim(data[C[0]], V, selection_threshold)"
   ]
  },
  {
   "cell_type": "code",
   "execution_count": null,
   "metadata": {},
   "outputs": [],
   "source": []
  }
 ],
 "metadata": {
  "kernelspec": {
   "display_name": "Python 2",
   "language": "python",
   "name": "python2"
  },
  "language_info": {
   "codemirror_mode": {
    "name": "ipython",
    "version": 2
   },
   "file_extension": ".py",
   "mimetype": "text/x-python",
   "name": "python",
   "nbconvert_exporter": "python",
   "pygments_lexer": "ipython2",
   "version": "2.7.15"
  }
 },
 "nbformat": 4,
 "nbformat_minor": 2
}
