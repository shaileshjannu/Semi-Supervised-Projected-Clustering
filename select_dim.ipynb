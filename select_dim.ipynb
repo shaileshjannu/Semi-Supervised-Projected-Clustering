{
 "cells": [
  {
   "cell_type": "code",
   "execution_count": 6,
   "metadata": {},
   "outputs": [],
   "source": [
    "import csv\n",
    "import numpy as np\n",
    "from pprint import pprint"
   ]
  },
  {
   "cell_type": "code",
   "execution_count": 11,
   "metadata": {},
   "outputs": [],
   "source": [
    "# Threshold coefficient.\n",
    "m = 0.5"
   ]
  },
  {
   "cell_type": "code",
   "execution_count": 29,
   "metadata": {},
   "outputs": [
    {
     "name": "stdout",
     "output_type": "stream",
     "text": [
      "{'data': array([['2278392', '8222157', 'Caucasian', ..., 'No', 'No', 'NO'],\n",
      "       ['149190', '55629189', 'Caucasian', ..., 'Ch', 'Yes', '>30'],\n",
      "       ['64410', '86047875', 'AfricanAmerican', ..., 'No', 'Yes', 'NO'],\n",
      "       ...,\n",
      "       ['443854148', '41088789', 'Caucasian', ..., 'Ch', 'Yes', 'NO'],\n",
      "       ['443857166', '31693671', 'Caucasian', ..., 'Ch', 'Yes', 'NO'],\n",
      "       ['443867222', '175429310', 'Caucasian', ..., 'No', 'No', 'NO']],\n",
      "      dtype='|S36'),\n",
      " 'features': ['encounter_id',\n",
      "              'patient_nbr',\n",
      "              'race',\n",
      "              'gender',\n",
      "              'age',\n",
      "              'weight',\n",
      "              'admission_type_id',\n",
      "              'discharge_disposition_id',\n",
      "              'admission_source_id',\n",
      "              'time_in_hospital',\n",
      "              'payer_code',\n",
      "              'medical_specialty',\n",
      "              'num_lab_procedures',\n",
      "              'num_procedures',\n",
      "              'num_medications',\n",
      "              'number_outpatient',\n",
      "              'number_emergency',\n",
      "              'number_inpatient',\n",
      "              'diag_1',\n",
      "              'diag_2',\n",
      "              'diag_3',\n",
      "              'number_diagnoses',\n",
      "              'max_glu_serum',\n",
      "              'A1Cresult',\n",
      "              'metformin',\n",
      "              'repaglinide',\n",
      "              'nateglinide',\n",
      "              'chlorpropamide',\n",
      "              'glimepiride',\n",
      "              'acetohexamide',\n",
      "              'glipizide',\n",
      "              'glyburide',\n",
      "              'tolbutamide',\n",
      "              'pioglitazone',\n",
      "              'rosiglitazone',\n",
      "              'acarbose',\n",
      "              'miglitol',\n",
      "              'troglitazone',\n",
      "              'tolazamide',\n",
      "              'examide',\n",
      "              'citoglipton',\n",
      "              'insulin',\n",
      "              'glyburide-metformin',\n",
      "              'glipizide-metformin',\n",
      "              'glimepiride-pioglitazone',\n",
      "              'metformin-rosiglitazone',\n",
      "              'metformin-pioglitazone',\n",
      "              'change',\n",
      "              'diabetesMed',\n",
      "              'readmitted']}\n"
     ]
    }
   ],
   "source": [
    "def read_data(file_path):\n",
    "    with open(file_path, 'rb') as csvfile:\n",
    "        csvreader = csv.reader(csvfile)\n",
    "        features = csvreader.next()\n",
    "        data = []\n",
    "        for row in csvreader:\n",
    "            data.append(row)\n",
    "    return {'features': features, 'data': np.array(data)}\n",
    "\n",
    "input_data = read_data('dataset_diabetes/diabetic_data.csv')\n",
    "features = input_data['features']\n",
    "data = np.array(input_data['data'])\n",
    "N, V = data.shape\n",
    "pprint(input_data)"
   ]
  },
  {
   "cell_type": "code",
   "execution_count": 40,
   "metadata": {},
   "outputs": [],
   "source": [
    "def calc_stats_i(data_i, V):\n",
    "    mu_i = []\n",
    "    mu_tilde_i = []\n",
    "    sample_var_i = []\n",
    "    selection_threshold_i = []\n",
    "    \n",
    "    # Loop over dimensions.\n",
    "    for j in range(V):\n",
    "        data_ij = data_i[:, j]\n",
    "        mu_ij = np.mean(data_ij)\n",
    "        mu_tilde_ij = np.median(data_ij)\n",
    "        sample_var_ij = np.var(data_ij, ddof=1)\n",
    "        selection_threshold_ij = m * sample_var\n",
    "\n",
    "        mu_i.append(mu_ij)\n",
    "        mu_tilde_i.append(mu_tilde_ij)\n",
    "        sample_var_i.append(sample_var_ij)\n",
    "        selection_threshold_i.append(selection_threshold_ij)\n",
    "    return (mu_i, mu_tilde_i, sample_var_i, selection_threshold_i)"
   ]
  },
  {
   "cell_type": "code",
   "execution_count": 41,
   "metadata": {},
   "outputs": [],
   "source": [
    "def calc_stats(data, C, V):\n",
    "    # Calculate sample median, sample mean, sample variance and selection threshold.\n",
    "    mu = []\n",
    "    mu_tilde = []\n",
    "    sample_var = []\n",
    "    selection_threshold = []\n",
    "    \n",
    "    # Loop over clusters.\n",
    "    for i in C:\n",
    "        data_i = data[i]\n",
    "        mu_i, mu_tilde_i, sample_var_i, selection_threshold_i = calc_stats_i(data_i, V)\n",
    "        mu.append(mu_i)\n",
    "        mu_tilde.append(mu_tilde_i)\n",
    "        sample_var.append(sample_var_i)\n",
    "        selection_threshold.append(selection_threshold_i)\n",
    "        \n",
    "    return {'mu': mu, \n",
    "            'mu_tilde': mu_tilde, \n",
    "            'sample_var': sample_var, \n",
    "            'selection_threshold': selection_threshold}"
   ]
  },
  {
   "cell_type": "code",
   "execution_count": 42,
   "metadata": {},
   "outputs": [],
   "source": [
    "def select_dim(data_i, V, mu_hat_i=None):\n",
    "    '''\n",
    "    Select relevant dimensions for clusters, which must obey: \n",
    "    s[i][j] ** 2 + (mu[i][j] - mu_tilde[i][j]) ** 2 < s_hat[i][j] ** 2\n",
    "    '''\n",
    "    # Reture a list of 0/1 values to show whether dim_j is selected.\n",
    "    selected_dim = np.zeros(V)\n",
    "    \n",
    "    # Calculate relevant statistics.\n",
    "    mu_i, mu_tilde_i, sample_var_i, selection_threshold_i = calc_stats_i(V, data_i)\n",
    "    \n",
    "    # Use medoids if given.\n",
    "    if mu_hat_i is not None:\n",
    "        mu_tilde_i = mu_hat_i\n",
    "    \n",
    "    # Loop over clusters to find relevant dimensions.\n",
    "    for j in range(V):\n",
    "        if sample_var_i[j] ** 2 + (mu_i[j] - mu_tilde_i[j]) ** 2 < selection_threshold_i[j] ** 2:\n",
    "            selected_dim[j] = 1\n",
    "    return selected_dim"
   ]
  },
  {
   "cell_type": "code",
   "execution_count": 43,
   "metadata": {},
   "outputs": [
    {
     "name": "stdout",
     "output_type": "stream",
     "text": [
      "['149190' '64410' '500364']\n"
     ]
    },
    {
     "ename": "TypeError",
     "evalue": "cannot perform reduce with flexible type",
     "output_type": "error",
     "traceback": [
      "\u001b[0;31m---------------------------------------------------------------------------\u001b[0m",
      "\u001b[0;31mTypeError\u001b[0m                                 Traceback (most recent call last)",
      "\u001b[0;32m<ipython-input-43-c2d261f6be5a>\u001b[0m in \u001b[0;36m<module>\u001b[0;34m()\u001b[0m\n\u001b[1;32m      1\u001b[0m \u001b[0mC\u001b[0m \u001b[0;34m=\u001b[0m \u001b[0;34m[\u001b[0m\u001b[0;34m[\u001b[0m\u001b[0;36m1\u001b[0m\u001b[0;34m,\u001b[0m \u001b[0;36m2\u001b[0m\u001b[0;34m,\u001b[0m \u001b[0;36m3\u001b[0m\u001b[0;34m]\u001b[0m\u001b[0;34m,\u001b[0m \u001b[0;34m[\u001b[0m\u001b[0;36m9\u001b[0m\u001b[0;34m,\u001b[0m \u001b[0;36m39\u001b[0m\u001b[0;34m,\u001b[0m \u001b[0;36m43\u001b[0m\u001b[0;34m,\u001b[0m \u001b[0;36m341\u001b[0m\u001b[0;34m]\u001b[0m\u001b[0;34m,\u001b[0m \u001b[0;34m[\u001b[0m\u001b[0;36m32\u001b[0m\u001b[0;34m,\u001b[0m \u001b[0;36m21\u001b[0m\u001b[0;34m,\u001b[0m \u001b[0;36m432\u001b[0m\u001b[0;34m]\u001b[0m\u001b[0;34m]\u001b[0m\u001b[0;34m\u001b[0m\u001b[0m\n\u001b[0;32m----> 2\u001b[0;31m \u001b[0mcalc_stats\u001b[0m\u001b[0;34m(\u001b[0m\u001b[0mdata\u001b[0m\u001b[0;34m,\u001b[0m \u001b[0mC\u001b[0m\u001b[0;34m,\u001b[0m \u001b[0mV\u001b[0m\u001b[0;34m)\u001b[0m\u001b[0;34m\u001b[0m\u001b[0m\n\u001b[0m",
      "\u001b[0;32m<ipython-input-41-f6de1fd1cdcf>\u001b[0m in \u001b[0;36mcalc_stats\u001b[0;34m(data, C, V)\u001b[0m\n\u001b[1;32m      9\u001b[0m     \u001b[0;32mfor\u001b[0m \u001b[0mi\u001b[0m \u001b[0;32min\u001b[0m \u001b[0mC\u001b[0m\u001b[0;34m:\u001b[0m\u001b[0;34m\u001b[0m\u001b[0m\n\u001b[1;32m     10\u001b[0m         \u001b[0mdata_i\u001b[0m \u001b[0;34m=\u001b[0m \u001b[0mdata\u001b[0m\u001b[0;34m[\u001b[0m\u001b[0mi\u001b[0m\u001b[0;34m]\u001b[0m\u001b[0;34m\u001b[0m\u001b[0m\n\u001b[0;32m---> 11\u001b[0;31m         \u001b[0mmu_i\u001b[0m\u001b[0;34m,\u001b[0m \u001b[0mmu_tilde_i\u001b[0m\u001b[0;34m,\u001b[0m \u001b[0msample_var_i\u001b[0m\u001b[0;34m,\u001b[0m \u001b[0mselection_threshold_i\u001b[0m \u001b[0;34m=\u001b[0m \u001b[0mcalc_stats_i\u001b[0m\u001b[0;34m(\u001b[0m\u001b[0mdata_i\u001b[0m\u001b[0;34m,\u001b[0m \u001b[0mV\u001b[0m\u001b[0;34m)\u001b[0m\u001b[0;34m\u001b[0m\u001b[0m\n\u001b[0m\u001b[1;32m     12\u001b[0m         \u001b[0mmu\u001b[0m\u001b[0;34m.\u001b[0m\u001b[0mappend\u001b[0m\u001b[0;34m(\u001b[0m\u001b[0mmu_i\u001b[0m\u001b[0;34m)\u001b[0m\u001b[0;34m\u001b[0m\u001b[0m\n\u001b[1;32m     13\u001b[0m         \u001b[0mmu_tilde\u001b[0m\u001b[0;34m.\u001b[0m\u001b[0mappend\u001b[0m\u001b[0;34m(\u001b[0m\u001b[0mmu_tilde_i\u001b[0m\u001b[0;34m)\u001b[0m\u001b[0;34m\u001b[0m\u001b[0m\n",
      "\u001b[0;32m<ipython-input-40-8e3357cc3278>\u001b[0m in \u001b[0;36mcalc_stats_i\u001b[0;34m(data_i, V)\u001b[0m\n\u001b[1;32m      9\u001b[0m         \u001b[0mdata_ij\u001b[0m \u001b[0;34m=\u001b[0m \u001b[0mdata_i\u001b[0m\u001b[0;34m[\u001b[0m\u001b[0;34m:\u001b[0m\u001b[0;34m,\u001b[0m \u001b[0mj\u001b[0m\u001b[0;34m]\u001b[0m\u001b[0;34m\u001b[0m\u001b[0m\n\u001b[1;32m     10\u001b[0m         \u001b[0;32mprint\u001b[0m\u001b[0;34m(\u001b[0m\u001b[0mdata_ij\u001b[0m\u001b[0;34m)\u001b[0m\u001b[0;34m\u001b[0m\u001b[0m\n\u001b[0;32m---> 11\u001b[0;31m         \u001b[0mmu_ij\u001b[0m \u001b[0;34m=\u001b[0m \u001b[0mnp\u001b[0m\u001b[0;34m.\u001b[0m\u001b[0mmean\u001b[0m\u001b[0;34m(\u001b[0m\u001b[0mdata_ij\u001b[0m\u001b[0;34m)\u001b[0m\u001b[0;34m\u001b[0m\u001b[0m\n\u001b[0m\u001b[1;32m     12\u001b[0m         \u001b[0mmu_tilde_ij\u001b[0m \u001b[0;34m=\u001b[0m \u001b[0mnp\u001b[0m\u001b[0;34m.\u001b[0m\u001b[0mmedian\u001b[0m\u001b[0;34m(\u001b[0m\u001b[0mdata_ij\u001b[0m\u001b[0;34m)\u001b[0m\u001b[0;34m\u001b[0m\u001b[0m\n\u001b[1;32m     13\u001b[0m         \u001b[0msample_var_ij\u001b[0m \u001b[0;34m=\u001b[0m \u001b[0mnp\u001b[0m\u001b[0;34m.\u001b[0m\u001b[0mvar\u001b[0m\u001b[0;34m(\u001b[0m\u001b[0mdata_ij\u001b[0m\u001b[0;34m,\u001b[0m \u001b[0mddof\u001b[0m\u001b[0;34m=\u001b[0m\u001b[0;36m1\u001b[0m\u001b[0;34m)\u001b[0m\u001b[0;34m\u001b[0m\u001b[0m\n",
      "\u001b[0;32m/home/jason/anaconda2/lib/python2.7/site-packages/numpy/core/fromnumeric.pyc\u001b[0m in \u001b[0;36mmean\u001b[0;34m(a, axis, dtype, out, keepdims)\u001b[0m\n\u001b[1;32m   2955\u001b[0m \u001b[0;34m\u001b[0m\u001b[0m\n\u001b[1;32m   2956\u001b[0m     return _methods._mean(a, axis=axis, dtype=dtype,\n\u001b[0;32m-> 2957\u001b[0;31m                           out=out, **kwargs)\n\u001b[0m\u001b[1;32m   2958\u001b[0m \u001b[0;34m\u001b[0m\u001b[0m\n\u001b[1;32m   2959\u001b[0m \u001b[0;34m\u001b[0m\u001b[0m\n",
      "\u001b[0;32m/home/jason/anaconda2/lib/python2.7/site-packages/numpy/core/_methods.pyc\u001b[0m in \u001b[0;36m_mean\u001b[0;34m(a, axis, dtype, out, keepdims)\u001b[0m\n\u001b[1;32m     68\u001b[0m             \u001b[0mis_float16_result\u001b[0m \u001b[0;34m=\u001b[0m \u001b[0mTrue\u001b[0m\u001b[0;34m\u001b[0m\u001b[0m\n\u001b[1;32m     69\u001b[0m \u001b[0;34m\u001b[0m\u001b[0m\n\u001b[0;32m---> 70\u001b[0;31m     \u001b[0mret\u001b[0m \u001b[0;34m=\u001b[0m \u001b[0mumr_sum\u001b[0m\u001b[0;34m(\u001b[0m\u001b[0marr\u001b[0m\u001b[0;34m,\u001b[0m \u001b[0maxis\u001b[0m\u001b[0;34m,\u001b[0m \u001b[0mdtype\u001b[0m\u001b[0;34m,\u001b[0m \u001b[0mout\u001b[0m\u001b[0;34m,\u001b[0m \u001b[0mkeepdims\u001b[0m\u001b[0;34m)\u001b[0m\u001b[0;34m\u001b[0m\u001b[0m\n\u001b[0m\u001b[1;32m     71\u001b[0m     \u001b[0;32mif\u001b[0m \u001b[0misinstance\u001b[0m\u001b[0;34m(\u001b[0m\u001b[0mret\u001b[0m\u001b[0;34m,\u001b[0m \u001b[0mmu\u001b[0m\u001b[0;34m.\u001b[0m\u001b[0mndarray\u001b[0m\u001b[0;34m)\u001b[0m\u001b[0;34m:\u001b[0m\u001b[0;34m\u001b[0m\u001b[0m\n\u001b[1;32m     72\u001b[0m         ret = um.true_divide(\n",
      "\u001b[0;31mTypeError\u001b[0m: cannot perform reduce with flexible type"
     ]
    }
   ],
   "source": [
    "C = [[1, 2, 3], [9, 39, 43, 341], [32, 21, 432]]\n",
    "calc_stats(data, C, V)"
   ]
  },
  {
   "cell_type": "code",
   "execution_count": null,
   "metadata": {},
   "outputs": [],
   "source": []
  }
 ],
 "metadata": {
  "kernelspec": {
   "display_name": "Python 2",
   "language": "python",
   "name": "python2"
  },
  "language_info": {
   "codemirror_mode": {
    "name": "ipython",
    "version": 2
   },
   "file_extension": ".py",
   "mimetype": "text/x-python",
   "name": "python",
   "nbconvert_exporter": "python",
   "pygments_lexer": "ipython2",
   "version": "2.7.15"
  }
 },
 "nbformat": 4,
 "nbformat_minor": 2
}
