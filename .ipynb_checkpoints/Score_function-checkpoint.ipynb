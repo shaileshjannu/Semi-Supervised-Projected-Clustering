{
 "cells": [
  {
   "cell_type": "code",
   "execution_count": 4,
   "metadata": {
    "collapsed": true
   },
   "outputs": [],
   "source": [
    "import math\n",
    "import numpy as np"
   ]
  },
  {
   "cell_type": "code",
   "execution_count": 42,
   "metadata": {
    "collapsed": true
   },
   "outputs": [],
   "source": [
    "def column(matrix, i):\n",
    "    return [row[i] for row in matrix]"
   ]
  },
  {
   "cell_type": "markdown",
   "metadata": {},
   "source": [
    "# Score Function"
   ]
  },
  {
   "cell_type": "code",
   "execution_count": 26,
   "metadata": {},
   "outputs": [
    {
     "data": {
      "text/plain": [
       "-7.1999999999999993"
      ]
     },
     "execution_count": 26,
     "metadata": {},
     "output_type": "execute_result"
    }
   ],
   "source": [
    "k = 6    # Number of clusters\n",
    "m = 0.5  # m varies between (0,1)"
   ]
  },
  {
   "cell_type": "code",
   "execution_count": 20,
   "metadata": {
    "collapsed": true
   },
   "outputs": [],
   "source": [
    "\n",
    "def score_function_ij(i, data_j):\n",
    "    \n",
    "    ni = len(data_j)\n",
    "    \n",
    "    miu = np.mean(data_j)\n",
    "    \n",
    "    sample_var = np.var(data_j, ddof=1)\n",
    "    \n",
    "    selection_threshold = m * sample_var\n",
    "\n",
    "    miu_tilda = data_j[medoids[i]]  # Assuming the medoids are in list format\n",
    "\n",
    "    phi_ij = (ni - 1) * (1 - (sample_var + (miu - miu_tilda)**2)/selection_threshold)\n",
    "\n",
    "    return phi_ij"
   ]
  },
  {
   "cell_type": "code",
   "execution_count": 28,
   "metadata": {
    "collapsed": true
   },
   "outputs": [],
   "source": [
    "def score_function_ij_updated(i, data_j):\n",
    "    \n",
    "    ni = len(data_j)\n",
    "    \n",
    "    miu = np.mean(data_j)\n",
    "    \n",
    "    sample_var = np.var(data_j, ddof=1)\n",
    "    \n",
    "    selection_threshold = m * sample_var\n",
    "\n",
    "    miu_tilda = np.median(data_j)\n",
    "\n",
    "    #Assuming correct input to the function where the lengths of two features are the same\n",
    "\n",
    "    phi_ij = (ni - 1) * (1 - (sample_var + (miu - miu_tilda)**2)/selection_threshold)\n",
    "\n",
    "    return phi_ij"
   ]
  },
  {
   "cell_type": "code",
   "execution_count": 66,
   "metadata": {
    "collapsed": true
   },
   "outputs": [],
   "source": [
    "def score_function_i(i, data_i):\n",
    "    \n",
    "    phi_ij = []\n",
    "    \n",
    "    for j in selected_dimension:\n",
    "        phi_ij.append(score_function_ij(i, column(data,j)))\n",
    "    \n",
    "    phi_i = sum(phi_ij)\n",
    "        \n",
    "    return phi_i"
   ]
  },
  {
   "cell_type": "code",
   "execution_count": 68,
   "metadata": {},
   "outputs": [],
   "source": [
    "def score_function_i_updated(i, data_i):\n",
    "    \n",
    "    phi_ij = []\n",
    "    \n",
    "    for j in selected_dimension:\n",
    "        phi_ij.append(score_function_ij_updated(i, column(data,j)))\n",
    "    \n",
    "    phi_i = sum(phi_ij)\n",
    "        \n",
    "    return phi_i"
   ]
  },
  {
   "cell_type": "code",
   "execution_count": 81,
   "metadata": {},
   "outputs": [],
   "source": [
    "def score_function_all(data):\n",
    "    \n",
    "    phi_i = []\n",
    "    n = len(data)\n",
    "    d = len(data[0])\n",
    "    \n",
    "    for k in clusters:\n",
    "        phi_i.append(score_function_i_updated(k,data[k]))\n",
    "        \n",
    "    phi = sum(phi_i)/(n*d)\n",
    "    \n",
    "    return phi\n",
    "    \n",
    "        "
   ]
  },
  {
   "cell_type": "code",
   "execution_count": null,
   "metadata": {
    "collapsed": true
   },
   "outputs": [],
   "source": []
  }
 ],
 "metadata": {
  "kernelspec": {
   "display_name": "Python 3",
   "language": "python",
   "name": "python3"
  },
  "language_info": {
   "codemirror_mode": {
    "name": "ipython",
    "version": 3
   },
   "file_extension": ".py",
   "mimetype": "text/x-python",
   "name": "python",
   "nbconvert_exporter": "python",
   "pygments_lexer": "ipython3",
   "version": "3.6.3"
  }
 },
 "nbformat": 4,
 "nbformat_minor": 2
}
