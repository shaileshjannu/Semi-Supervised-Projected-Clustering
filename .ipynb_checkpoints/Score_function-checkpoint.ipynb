{
 "cells": [
  {
   "cell_type": "code",
   "execution_count": 86,
   "metadata": {
    "collapsed": true
   },
   "outputs": [],
   "source": [
    "import math\n",
    "import numpy as np"
   ]
  },
  {
   "cell_type": "code",
   "execution_count": 42,
   "metadata": {
    "collapsed": true
   },
   "outputs": [],
   "source": [
    "def column(matrix, i):\n",
    "    return [row[i] for row in matrix]"
   ]
  },
  {
   "cell_type": "markdown",
   "metadata": {},
   "source": [
    "# Score Function"
   ]
  },
  {
   "cell_type": "code",
   "execution_count": 82,
   "metadata": {},
   "outputs": [],
   "source": [
    "k = 6    # Number of clusters\n",
    "m = 0.5  # m varies between (0,1)"
   ]
  },
  {
   "cell_type": "code",
   "execution_count": 20,
   "metadata": {
    "collapsed": true
   },
   "outputs": [],
   "source": [
    "\n",
    "def score_function_ij(i, data_j):\n",
    "    \n",
    "    ni = len(data_j)\n",
    "    \n",
    "    miu = np.mean(data_j)\n",
    "    \n",
    "    sample_var = np.var(data_j, ddof=1)\n",
    "    \n",
    "    selection_threshold = m * sample_var\n",
    "\n",
    "    miu_tilda = data_j[medoids[i]]  # Assuming the medoids are in list format\n",
    "\n",
    "    phi_ij = (ni - 1) * (1 - (sample_var + (miu - miu_tilda)**2)/selection_threshold)\n",
    "\n",
    "    return phi_ij"
   ]
  },
  {
   "cell_type": "code",
   "execution_count": 28,
   "metadata": {
    "collapsed": true
   },
   "outputs": [],
   "source": [
    "def score_function_ij_updated(i, data_j):\n",
    "    \n",
    "    ni = len(data_j)\n",
    "    \n",
    "    miu = np.mean(data_j)\n",
    "    \n",
    "    sample_var = np.var(data_j, ddof=1)\n",
    "    \n",
    "    selection_threshold = m * sample_var\n",
    "\n",
    "    miu_tilda = np.median(data_j)\n",
    "\n",
    "    #Assuming correct input to the function where the lengths of two features are the same\n",
    "\n",
    "    phi_ij = (ni - 1) * (1 - (sample_var + (miu - miu_tilda)**2)/selection_threshold)\n",
    "\n",
    "    return phi_ij"
   ]
  },
  {
   "cell_type": "code",
   "execution_count": 66,
   "metadata": {
    "collapsed": true
   },
   "outputs": [],
   "source": [
    "def score_function_i(i, data_i):\n",
    "    \n",
    "    phi_ij = []\n",
    "    \n",
    "    for j in selected_dimension:\n",
    "        phi_ij.append(score_function_ij(i, column(data,j)))\n",
    "    \n",
    "    phi_i = sum(phi_ij)\n",
    "        \n",
    "    return phi_i"
   ]
  },
  {
   "cell_type": "code",
   "execution_count": 68,
   "metadata": {
    "collapsed": true
   },
   "outputs": [],
   "source": [
    "def score_function_i_updated(i, data_i):\n",
    "    \n",
    "    phi_ij = []\n",
    "    \n",
    "    for j in selected_dimension:\n",
    "        phi_ij.append(score_function_ij_updated(i, column(data,j)))\n",
    "    \n",
    "    phi_i = sum(phi_ij)\n",
    "        \n",
    "    return phi_i"
   ]
  },
  {
   "cell_type": "code",
   "execution_count": 81,
   "metadata": {
    "collapsed": true
   },
   "outputs": [],
   "source": [
    "def score_function_all(data):\n",
    "    \n",
    "    phi_i = []\n",
    "    n = len(data)\n",
    "    d = len(data[0])\n",
    "    \n",
    "    for k in clusters:\n",
    "        phi_i.append(score_function_i_updated(k,data[k]))\n",
    "        \n",
    "    phi = sum(phi_i)/(n*d)\n",
    "    \n",
    "    return phi\n",
    "    \n",
    "        "
   ]
  },
  {
   "cell_type": "markdown",
   "metadata": {},
   "source": [
    "# Pandas dataframe format\n",
    "\n",
    "The following functions are used if the data inputs are in pandas dataframe format"
   ]
  },
  {
   "cell_type": "code",
   "execution_count": null,
   "metadata": {
    "collapsed": true
   },
   "outputs": [],
   "source": [
    "\n",
    "def score_function_ij(i, data_j):\n",
    "    \n",
    "    ni = len(data_j)\n",
    "    \n",
    "    miu = np.mean(data_j)\n",
    "    \n",
    "    sample_var = np.var(data_j, ddof=1)\n",
    "    \n",
    "    selection_threshold = m * sample_var\n",
    "\n",
    "    miu_tilda = data_j[medoids[i]]  # Assuming the medoids are in list format\n",
    "\n",
    "    phi_ij = (ni - 1) * (1 - (sample_var + (miu - miu_tilda)**2)/selection_threshold)\n",
    "\n",
    "    return phi_ij\n",
    "\n",
    "def score_function_ij_updated(i, data_j):\n",
    "    \n",
    "    ni = len(data_j)\n",
    "    \n",
    "    miu = np.mean(data_j)\n",
    "    \n",
    "    sample_var = np.var(data_j, ddof=1)\n",
    "    \n",
    "    selection_threshold = m * sample_var\n",
    "\n",
    "    miu_tilda = np.median(data_j)\n",
    "\n",
    "    #Assuming correct input to the function where the lengths of two features are the same\n",
    "\n",
    "    phi_ij = (ni - 1) * (1 - (sample_var + (miu - miu_tilda)**2)/selection_threshold)\n",
    "\n",
    "    return phi_ij\n",
    "\n",
    "\n",
    "def score_function_i(i, data_i):\n",
    "    \n",
    "    phi_ij = []\n",
    "    \n",
    "    for j in selected_dimension:\n",
    "        phi_ij.append(score_function_ij(i, column(data,j)))\n",
    "    \n",
    "    phi_i = sum(phi_ij)\n",
    "        \n",
    "    return phi_i\n",
    "\n",
    "\n",
    "def score_function_i_updated(i, data_i):\n",
    "    \n",
    "    phi_ij = []\n",
    "    \n",
    "    for j in selected_dimension:\n",
    "        phi_ij.append(score_function_ij_updated(i, column(data,j)))\n",
    "    \n",
    "    phi_i = sum(phi_ij)\n",
    "        \n",
    "    return phi_i\n",
    "\n",
    "\n",
    "def score_function_all(data):\n",
    "    \n",
    "    data = pd.DataFrame(data)\n",
    "    \n",
    "    phi_i = []\n",
    "    n,d = data.shape\n",
    "    \n",
    "    for k in clusters:\n",
    "        phi_i.append(score_function_i_updated(k,data.iloc[clusters[k]]))\n",
    "        \n",
    "    phi = sum(phi_i)/(n*d)\n",
    "    \n",
    "    return phi\n",
    "    \n",
    "        "
   ]
  },
  {
   "cell_type": "code",
   "execution_count": 104,
   "metadata": {},
   "outputs": [
    {
     "data": {
      "text/html": [
       "<div>\n",
       "<style>\n",
       "    .dataframe thead tr:only-child th {\n",
       "        text-align: right;\n",
       "    }\n",
       "\n",
       "    .dataframe thead th {\n",
       "        text-align: left;\n",
       "    }\n",
       "\n",
       "    .dataframe tbody tr th {\n",
       "        vertical-align: top;\n",
       "    }\n",
       "</style>\n",
       "<table border=\"1\" class=\"dataframe\">\n",
       "  <thead>\n",
       "    <tr style=\"text-align: right;\">\n",
       "      <th></th>\n",
       "      <th>1</th>\n",
       "      <th>2</th>\n",
       "      <th>3</th>\n",
       "      <th>4</th>\n",
       "    </tr>\n",
       "  </thead>\n",
       "  <tbody>\n",
       "    <tr>\n",
       "      <th>2</th>\n",
       "      <td>3</td>\n",
       "      <td>4</td>\n",
       "      <td>4</td>\n",
       "      <td>23</td>\n",
       "    </tr>\n",
       "    <tr>\n",
       "      <th>3</th>\n",
       "      <td>4</td>\n",
       "      <td>1</td>\n",
       "      <td>5</td>\n",
       "      <td>41</td>\n",
       "    </tr>\n",
       "  </tbody>\n",
       "</table>\n",
       "</div>"
      ],
      "text/plain": [
       "   1  2  3   4\n",
       "2  3  4  4  23\n",
       "3  4  1  5  41"
      ]
     },
     "execution_count": 104,
     "metadata": {},
     "output_type": "execute_result"
    }
   ],
   "source": [
    "data = {1:[1,2,3,4,5],\n",
    "        2:[2,3,4,1,3],\n",
    "        3:[5,2,4,5,2],\n",
    "        4:[1239,34,23,41,1]}\n",
    "import pandas as pd\n",
    "data = pd.DataFrame(data)\n",
    "data.shape\n",
    "np.var(data[1])\n",
    "\n",
    "k = {1:[1],\n",
    "    2:[2,3],\n",
    "    3:[4]}\n",
    "\n",
    "data.iloc[k[2]]"
   ]
  },
  {
   "cell_type": "code",
   "execution_count": 106,
   "metadata": {},
   "outputs": [
    {
     "name": "stdout",
     "output_type": "stream",
     "text": [
      "5\n",
      "   1  2  3     4\n",
      "0  1  2  5  1239\n",
      "1  2  3  2    34\n",
      "2  3  4  4    23\n",
      "3  4  1  5    41\n",
      "4  5  3  2     1\n"
     ]
    }
   ],
   "source": [
    "print(len(data))\n",
    "print(data)"
   ]
  },
  {
   "cell_type": "code",
   "execution_count": 110,
   "metadata": {},
   "outputs": [
    {
     "data": {
      "text/plain": [
       "2"
      ]
     },
     "execution_count": 110,
     "metadata": {},
     "output_type": "execute_result"
    }
   ],
   "source": [
    "len(data.iloc[k[2]])"
   ]
  },
  {
   "cell_type": "code",
   "execution_count": null,
   "metadata": {
    "collapsed": true
   },
   "outputs": [],
   "source": [
    "import random\n",
    "\n",
    "# randomly initialize an array of k medoid indices\n",
    "\n",
    "for i in range(len(seed_groups)):\n",
    "    number_to_choose = len(seed_groups[i])\n",
    "    medoids = random.sample(seed_groups[i], number_to_choose)\n",
    "\n"
   ]
  }
 ],
 "metadata": {
  "kernelspec": {
   "display_name": "Python 3",
   "language": "python",
   "name": "python3"
  },
  "language_info": {
   "codemirror_mode": {
    "name": "ipython",
    "version": 3
   },
   "file_extension": ".py",
   "mimetype": "text/x-python",
   "name": "python",
   "nbconvert_exporter": "python",
   "pygments_lexer": "ipython3",
   "version": "3.6.3"
  }
 },
 "nbformat": 4,
 "nbformat_minor": 2
}
