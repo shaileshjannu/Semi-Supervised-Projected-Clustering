{
 "cells": [
  {
   "cell_type": "markdown",
   "metadata": {
    "collapsed": true
   },
   "source": [
    "# Draw medoids\n",
    "From each cluster, draw a Medoid from the seeds\n",
    "\n"
   ]
  },
  {
   "cell_type": "code",
   "execution_count": null,
   "metadata": {
    "collapsed": true
   },
   "outputs": [],
   "source": [
    "import pandas as pd\n",
    "\n",
    "\n",
    "#### Preliminaries:\n",
    "data = pd.DataFrame(data)\n",
    "n,d = data.shape\n",
    "\n",
    "data_k = data[selected_dimensions[k]].iloc[seed_groups[k]] # Data in kth cluster\n",
    "nk, dk = data_k.shape\n",
    "\n",
    "data_j = data_k[j]"
   ]
  },
  {
   "cell_type": "code",
   "execution_count": null,
   "metadata": {
    "collapsed": true
   },
   "outputs": [],
   "source": [
    "import random\n",
    "\n",
    "# Randomly initialize a list of medoids for each seed_groups without repitition\n",
    "medoids = {}\n",
    "for k in range(len(seed_groups)):\n",
    "    number_to_choose = len(seed_groups[k+1])\n",
    "    medoids.update({k: random.sample(seed_groups[k+1], number_to_choose)})"
   ]
  },
  {
   "cell_type": "markdown",
   "metadata": {},
   "source": [
    "# Score Functions"
   ]
  },
  {
   "cell_type": "code",
   "execution_count": null,
   "metadata": {
    "collapsed": true
   },
   "outputs": [],
   "source": [
    "import numpy as np\n",
    "\n",
    "# The score function of the kth cluster in j dimension: input - data in kth group of specific dimension\n",
    "# Reminds that the miu used in first iteration is the medoid; while in later iterations it became the median\n",
    "\n",
    "def score_function_ij(k, m, data_j, first = False):  # m within (0,1)\n",
    "    \n",
    "    \"\"\"The score function of the kth cluster in j dimension: input - data in kth group of specific dimension.\n",
    "       Reminds that the miu used in first iteration is the medoid; while in later iterations it became the median.\n",
    "       m should be within range(0,1)\"\"\"\n",
    "    \n",
    "    ni = len(data_j)\n",
    "    \n",
    "    miu = np.mean(data_j)\n",
    "    \n",
    "    sample_var = np.var(data_j, ddof=1)\n",
    "    \n",
    "    selection_threshold = m * sample_var\n",
    "    \n",
    "    if first:\n",
    "        miu_tilda = data_j[medoids_used[k]]\n",
    "    \n",
    "    miu_tilda = np.median(data_j)\n",
    "\n",
    "    phi_ij = (ni - 1) * (1 - (sample_var + (miu - miu_tilda)**2)/selection_threshold)\n",
    "\n",
    "    return phi_ij\n",
    "\n",
    "\n",
    "# The score component of each cluster: sum of score component phi_ij over set of selected dimensions\n",
    "def score_function_i(k, m, data_k, first = False):\n",
    "    \n",
    "    phi_ij = []\n",
    "    \n",
    "    for j in range(dk):  # Calculate the score of each dimension in data_k\n",
    "        phi_ij.append(score_function_ij(k, m, data_k[j], first))\n",
    "    \n",
    "    phi_i = sum(phi_ij) # Sum over selected dimensions\n",
    "        \n",
    "    return phi_i\n",
    "\n",
    "def score_function_all(data):\n",
    "\n",
    "    phi_i = []\n",
    "    for k in clusters:\n",
    "        phi_i.append(score_function_i_updated(k, m, data_k, first))\n",
    "        \n",
    "    phi = sum(phi_i)/(n*d)\n",
    "    \n",
    "    return phi"
   ]
  },
  {
   "cell_type": "markdown",
   "metadata": {},
   "source": [
    "# Assign Object\n",
    "\n",
    "Assign every object in the dataset to the cluster (or outlier list) that gives the greatest improvement to the objective score."
   ]
  },
  {
   "cell_type": "code",
   "execution_count": null,
   "metadata": {
    "collapsed": true
   },
   "outputs": [],
   "source": [
    "def assign_max(data, m, first=False):\n",
    "    \n",
    "    cluster_assign = []  # Create a list of assigned clusters for each individual data\n",
    "    phi_i_scores = []   # Create a list of relevant phi_i scores for assigned clusters\n",
    "    outlier_list = []\n",
    "    data_k = {}\n",
    "    \n",
    "    for k in range(k):\n",
    "        data_k.update({k:[]})\n",
    "        medoids_used = medoids[k][0]\n",
    "        data_k[k].append(medoids_used[k])\n",
    "\n",
    "    # For each new data input, calculate the new score_i for every cluster and assign the maximum\n",
    "    for i in range(len(data)):\n",
    "        \n",
    "        new_dat_point = data[i] # Extract the medoid use list from random medoids list\n",
    "\n",
    "        for k in range(len(medoids)):\n",
    "            \n",
    "            phi_i = []\n",
    "            data_k\n",
    "            for j in selected_dimensions[k]:  # First calculate the score_ij \n",
    "                phi_ij = []\n",
    "                data_j = []\n",
    "                data_j[0] = data[medoids_used[0]][j]\n",
    "                data_j.append(new_dat_point)\n",
    "                data_j = pd.DataFrame(data_j)\n",
    "                phi_ij.append(score_function_ij(k, m, data_j, first))\n",
    "                \n",
    "            phi_i.append(sum(phi_ij))\n",
    "        \n",
    "        \n",
    "        cluster_assign.append(np.argmax(phi_i))\n",
    "        phi_i_scores.append(max(phi_i))\n",
    "        data_k[cluster_assign[i]].append(new_dat_point)\n",
    "            \n",
    "            \n",
    "    return cluster_assign, phi_i_scores"
   ]
  },
  {
   "cell_type": "code",
   "execution_count": null,
   "metadata": {
    "collapsed": true
   },
   "outputs": [],
   "source": []
  }
 ],
 "metadata": {
  "kernelspec": {
   "display_name": "Python 3",
   "language": "python",
   "name": "python3"
  },
  "language_info": {
   "codemirror_mode": {
    "name": "ipython",
    "version": 3
   },
   "file_extension": ".py",
   "mimetype": "text/x-python",
   "name": "python",
   "nbconvert_exporter": "python",
   "pygments_lexer": "ipython3",
   "version": "3.6.3"
  }
 },
 "nbformat": 4,
 "nbformat_minor": 2
}
