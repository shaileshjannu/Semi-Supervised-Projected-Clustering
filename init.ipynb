{
 "cells": [
  {
   "cell_type": "code",
   "execution_count": 1,
   "metadata": {},
   "outputs": [],
   "source": [
    "import numpy as np\n",
    "import scipy as sp\n",
    "from pprint import pprint\n",
    "from utils import preprocess, select_dim, calc_selection_threshold, score_function_i"
   ]
  },
  {
   "cell_type": "code",
   "execution_count": 2,
   "metadata": {},
   "outputs": [
    {
     "name": "stderr",
     "output_type": "stream",
     "text": [
      "/home/jason/anaconda2/lib/python2.7/site-packages/sklearn/utils/validation.py:475: DataConversionWarning: Data with input dtype int64 was converted to float64 by the scale function.\n",
      "  warnings.warn(msg, DataConversionWarning)\n"
     ]
    }
   ],
   "source": [
    "data = preprocess('dataset_diabetes/diabetic_data.csv')\n",
    "N, V = data.shape"
   ]
  },
  {
   "cell_type": "code",
   "execution_count": 3,
   "metadata": {},
   "outputs": [
    {
     "data": {
      "text/plain": [
       "(array([[-1.58733032, -1.19154543,  0.42755739, ...,  0.92659052,\n",
       "         -1.82986799,  0.8368795 ],\n",
       "        [-1.60807473,  0.03356374,  0.42755739, ..., -1.07922537,\n",
       "          0.54648751, -0.62496982],\n",
       "        [-1.60890073,  0.81965411, -1.70370587, ...,  0.92659052,\n",
       "          0.54648751,  0.8368795 ],\n",
       "        ...,\n",
       "        [ 2.71485842, -0.34219438,  0.42755739, ..., -1.07922537,\n",
       "          0.54648751,  0.8368795 ],\n",
       "        [ 2.71488782, -0.58498632,  0.42755739, ..., -1.07922537,\n",
       "          0.54648751,  0.8368795 ],\n",
       "        [ 2.71498579,  3.12948056,  0.42755739, ...,  0.92659052,\n",
       "         -1.82986799,  0.8368795 ]]), 101766, 50)"
      ]
     },
     "execution_count": 3,
     "metadata": {},
     "output_type": "execute_result"
    }
   ],
   "source": [
    "data, N, V"
   ]
  },
  {
   "cell_type": "code",
   "execution_count": 4,
   "metadata": {},
   "outputs": [],
   "source": [
    "selection_threshold = calc_selection_threshold(data, V)"
   ]
  },
  {
   "cell_type": "code",
   "execution_count": 5,
   "metadata": {},
   "outputs": [
    {
     "data": {
      "text/plain": [
       "array([1., 1., 0., 0., 1., 1., 1., 1., 1., 1., 1., 1., 0., 0., 1., 0., 1.,\n",
       "       1., 0., 1., 0., 0., 1., 1., 1., 1., 1., 1., 1., 1., 0., 1., 1., 1.,\n",
       "       1., 1., 1., 1., 1., 0., 0., 0., 1., 1., 1., 1., 1., 0., 1., 0.])"
      ]
     },
     "execution_count": 5,
     "metadata": {},
     "output_type": "execute_result"
    }
   ],
   "source": [
    "C = [[1, 2, 3], [9, 39, 43, 341], [32, 21, 432]]\n",
    "select_dim(data[C[0]], V, selection_threshold)"
   ]
  },
  {
   "cell_type": "code",
   "execution_count": 6,
   "metadata": {},
   "outputs": [],
   "source": [
    "# labeled_objects[i][j] = j-th object in i-th cluster.\n",
    "labeled_objects = [[9, 23, 543], [456, 34, 52], [76, 500, 381, 245]]\n",
    "\n",
    "# labeled_dimensions[i][j] = j-th dimension relevant to i-th cluster.\n",
    "labeled_dimensions = [[1, 3, 5], [9, 20, 48], [23, 12, 31]]    "
   ]
  },
  {
   "cell_type": "code",
   "execution_count": 7,
   "metadata": {},
   "outputs": [
    {
     "ename": "SyntaxError",
     "evalue": "invalid syntax (<ipython-input-7-619758ab41cd>, line 7)",
     "output_type": "error",
     "traceback": [
      "\u001b[0;36m  File \u001b[0;32m\"<ipython-input-7-619758ab41cd>\"\u001b[0;36m, line \u001b[0;32m7\u001b[0m\n\u001b[0;31m    return set(\u001b[0m\n\u001b[0m               ^\u001b[0m\n\u001b[0;31mSyntaxError\u001b[0m\u001b[0;31m:\u001b[0m invalid syntax\n"
     ]
    }
   ],
   "source": [
    "def candidate_set():\n",
    "    \"\"\"\n",
    "    Define a candidate set that includes the dimensions selected by SelectDim as well as \n",
    "    those in labeled_dimensions, where each dimension in the set has a probability \n",
    "    proportional to the score function of being selected as a building dimension of a grid.\n",
    "    \"\"\"\n",
    "    return set("
   ]
  },
  {
   "cell_type": "code",
   "execution_count": null,
   "metadata": {},
   "outputs": [],
   "source": [
    "def initialize(data, k, labeled_objects, labeled_dimensions):\n",
    "\n",
    "    # Loop over clusters.\n",
    "    for i in range(k):\n",
    "        if (i < len(labeled_objects)):\n",
    "            \n",
    "            # Extract i-th cluster's labeled objects.\n",
    "            data_i = data[labeled_objects[i]]\n",
    "            med_i = np.median(data_i)\n",
    "            \n",
    "            # Define a candidate set that includes the dimensions selected by SelectDim as well as \n",
    "            # those in labeled_dimensions.\n",
    "            candidate_set = set(select_dim(data_i) + labeled_dimensions[i])\n",
    "            score_ij = score_function_i(i, candidate_set, med_i)\n",
    "            \n",
    "            # TODO: Use scipy.stats.binned_statistic_dd\n",
    "            "
   ]
  }
 ],
 "metadata": {
  "kernelspec": {
   "display_name": "Python 2",
   "language": "python",
   "name": "python2"
  },
  "language_info": {
   "codemirror_mode": {
    "name": "ipython",
    "version": 2
   },
   "file_extension": ".py",
   "mimetype": "text/x-python",
   "name": "python",
   "nbconvert_exporter": "python",
   "pygments_lexer": "ipython2",
   "version": "2.7.15"
  }
 },
 "nbformat": 4,
 "nbformat_minor": 2
}
