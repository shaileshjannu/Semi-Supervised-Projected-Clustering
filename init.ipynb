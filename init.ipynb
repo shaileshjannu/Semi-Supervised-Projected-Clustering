{
 "cells": [
  {
   "cell_type": "code",
   "execution_count": null,
   "metadata": {},
   "outputs": [],
   "source": [
    "import time\n",
    "import numpy as np\n",
    "import scipy as sp\n",
    "from pprint import pprint\n",
    "from utils import preprocess, calc_selection_threshold, select_dim, initialize\n",
    "import json"
   ]
  },
  {
   "cell_type": "code",
   "execution_count": null,
   "metadata": {},
   "outputs": [],
   "source": [
    "t0 = time.time()\n",
    "data = preprocess('dataset_diabetes/diabetic_data.csv')\n",
    "N, V = data.shape"
   ]
  },
  {
   "cell_type": "code",
   "execution_count": null,
   "metadata": {},
   "outputs": [],
   "source": [
    "data, N, V"
   ]
  },
  {
   "cell_type": "code",
   "execution_count": null,
   "metadata": {},
   "outputs": [],
   "source": [
    "selection_threshold = calc_selection_threshold(data)"
   ]
  },
  {
   "cell_type": "code",
   "execution_count": null,
   "metadata": {},
   "outputs": [],
   "source": [
    "C = [[1, 2, 3], [9, 39, 43, 341], [32, 21, 432]]\n",
    "select_dim(data[C[0]], selection_threshold)"
   ]
  },
  {
   "cell_type": "code",
   "execution_count": null,
   "metadata": {},
   "outputs": [],
   "source": [
    "# labeled_objects[i][j] = j-th object in i-th cluster.\n",
    "labeled_objects = [[9, 23, 543], [456, 34, 52], [76, 500, 381, 245]]\n",
    "\n",
    "# labeled_dimensions[i][j] = j-th dimension relevant to i-th cluster.\n",
    "labeled_dimensions = [[1, 3, 5], [9, 7, 8], [4, 2, 6]]    "
   ]
  },
  {
   "cell_type": "code",
   "execution_count": null,
   "metadata": {},
   "outputs": [],
   "source": [
    "G, selected_dims = initialize(data, 5, labeled_objects, labeled_dimensions)\n",
    "t_tot = time.time() - t0"
   ]
  },
  {
   "cell_type": "code",
   "execution_count": null,
   "metadata": {},
   "outputs": [],
   "source": [
    "res = {'G': G, 'selected_dims': selected_dims, 't_tot': t_tot}\n",
    "with open('results.json', 'w') as outfile:\n",
    "    json.dump(res, outfile)"
   ]
  },
  {
   "cell_type": "code",
   "execution_count": null,
   "metadata": {},
   "outputs": [],
   "source": []
  }
 ],
 "metadata": {
  "kernelspec": {
   "display_name": "Python 2",
   "language": "python",
   "name": "python2"
  },
  "language_info": {
   "codemirror_mode": {
    "name": "ipython",
    "version": 2
   },
   "file_extension": ".py",
   "mimetype": "text/x-python",
   "name": "python",
   "nbconvert_exporter": "python",
   "pygments_lexer": "ipython2",
   "version": "2.7.15"
  }
 },
 "nbformat": 4,
 "nbformat_minor": 2
}
