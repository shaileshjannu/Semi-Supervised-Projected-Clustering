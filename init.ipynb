{
 "cells": [
  {
   "cell_type": "code",
   "execution_count": 1,
   "metadata": {},
   "outputs": [],
   "source": [
    "import numpy as np\n",
    "import scipy as sp\n",
    "from pprint import pprint\n",
    "from utils import preprocess, select_dim, calc_selection_threshold, score_function_i"
   ]
  },
  {
   "cell_type": "code",
   "execution_count": 2,
   "metadata": {},
   "outputs": [
    {
     "name": "stderr",
     "output_type": "stream",
     "text": [
      "/home/jason/anaconda2/lib/python2.7/site-packages/sklearn/utils/validation.py:475: DataConversionWarning: Data with input dtype int64 was converted to float64 by the scale function.\n",
      "  warnings.warn(msg, DataConversionWarning)\n"
     ]
    }
   ],
   "source": [
    "data = preprocess('dataset_diabetes/diabetic_data.csv')\n",
    "N, V = data.shape"
   ]
  },
  {
   "cell_type": "code",
   "execution_count": 3,
   "metadata": {},
   "outputs": [
    {
     "data": {
      "text/plain": [
       "(array([[-1.58733032, -1.19154543,  0.42755739, ...,  0.92659052,\n",
       "         -1.82986799,  0.8368795 ],\n",
       "        [-1.60807473,  0.03356374,  0.42755739, ..., -1.07922537,\n",
       "          0.54648751, -0.62496982],\n",
       "        [-1.60890073,  0.81965411, -1.70370587, ...,  0.92659052,\n",
       "          0.54648751,  0.8368795 ],\n",
       "        ...,\n",
       "        [ 2.71485842, -0.34219438,  0.42755739, ..., -1.07922537,\n",
       "          0.54648751,  0.8368795 ],\n",
       "        [ 2.71488782, -0.58498632,  0.42755739, ..., -1.07922537,\n",
       "          0.54648751,  0.8368795 ],\n",
       "        [ 2.71498579,  3.12948056,  0.42755739, ...,  0.92659052,\n",
       "         -1.82986799,  0.8368795 ]]), 101766, 50)"
      ]
     },
     "execution_count": 3,
     "metadata": {},
     "output_type": "execute_result"
    }
   ],
   "source": [
    "data, N, V"
   ]
  },
  {
   "cell_type": "code",
   "execution_count": 4,
   "metadata": {},
   "outputs": [],
   "source": [
    "selection_threshold = calc_selection_threshold(data)"
   ]
  },
  {
   "cell_type": "code",
   "execution_count": 5,
   "metadata": {},
   "outputs": [
    {
     "data": {
      "text/plain": [
       "array([1., 1., 0., 0., 1., 1., 1., 1., 1., 1., 1., 1., 0., 0., 1., 0., 1.,\n",
       "       1., 0., 1., 0., 0., 1., 1., 1., 1., 1., 1., 1., 1., 0., 1., 1., 1.,\n",
       "       1., 1., 1., 1., 1., 0., 0., 0., 1., 1., 1., 1., 1., 0., 1., 0.])"
      ]
     },
     "execution_count": 5,
     "metadata": {},
     "output_type": "execute_result"
    }
   ],
   "source": [
    "C = [[1, 2, 3], [9, 39, 43, 341], [32, 21, 432]]\n",
    "select_dim(data[C[0]], selection_threshold)"
   ]
  },
  {
   "cell_type": "code",
   "execution_count": 6,
   "metadata": {},
   "outputs": [],
   "source": [
    "# labeled_objects[i][j] = j-th object in i-th cluster.\n",
    "labeled_objects = [[9, 23, 543], [456, 34, 52], [76, 500, 381, 245]]\n",
    "\n",
    "# labeled_dimensions[i][j] = j-th dimension relevant to i-th cluster.\n",
    "labeled_dimensions = [[1, 3, 5], [9, 20, 48], [23, 12, 31]]    "
   ]
  },
  {
   "cell_type": "code",
   "execution_count": null,
   "metadata": {},
   "outputs": [],
   "source": [
    "building_dim_num = 3\n",
    "\n",
    "def initialize(data, k, labeled_objects, labeled_dimensions):\n",
    "    selection_threshold = calc_selection_threshold(data)\n",
    "    \n",
    "    # i-th sample belongs to seed_group_label[i] seed group.\n",
    "    seed_group_label = np.zeros(len(data))\n",
    "    \n",
    "    # Denote the current distance to the closest median.\n",
    "    med_dist = np.zeros(len(data))\n",
    "    \n",
    "    # Private seeds.\n",
    "    G = []\n",
    "    \n",
    "    # Loop over clusters.\n",
    "    for i in range(k):\n",
    "        if (i < len(labeled_objects)):\n",
    "            \n",
    "            # Extract i-th cluster's labeled objects.\n",
    "            data_i = data[labeled_objects[i]]\n",
    "            med_i = np.median(data_i)\n",
    "            \n",
    "            # Define a candidate set that includes the dimensions selected by SelectDim as well as \n",
    "            # those in labeled_dimensions.\n",
    "            candidate_set = set(select_dim(data_i) + labeled_dimensions[i])\n",
    "            score_ij = score_function_i(i, candidate_set, med_i)\n",
    "            \n",
    "            # Each dimension in the set has a probability proportional to \n",
    "            # the score function of being selected as a building dimension of a grid.\n",
    "            score_ij /= sum(score_ij)\n",
    "            building_dims = np.random.choice(a=candidate_set, size=building_dim_num, replace=False, p=score_ij)\n",
    "            \n",
    "            # Find all the data points within 1 std to the median in all building dimensions.\n",
    "            data_grid = data[:, building_dims]\n",
    "            sd_grid = np.std(data_grid, axis=0)\n",
    "            G_i = []\n",
    "            for j in range(len(data_grid)):\n",
    "                sample = data_grid[j]\n",
    "                \n",
    "                # Check whether the point lies within the grid.\n",
    "                in_grid = True\n",
    "                \n",
    "                # Calculate the standardized distance to the median.\n",
    "                std_dist = 0\n",
    "                for building_dim in range(building_dim_num):\n",
    "                    std_dist_comp = abs(sample[building_dim] - med_i[building_dim]) / sd_grid[building_dim]\n",
    "                    if std_dist > 1:\n",
    "                        in_grid = False\n",
    "                        break\n",
    "                    std_dist += std_dist_comp ** 2\n",
    "                std_dist = std_dist ** 0.5\n",
    "                \n",
    "                # If the point lies within the grid, check whether this is the closest median.\n",
    "                if in_grid and seed_group_label[j] != 0 and std_dist < med_dist[j]:\n",
    "\n",
    "                    # Update its label and closest to-median distance.\n",
    "                    G[seed_group_label[j]].remove(j)\n",
    "                    G_i.append(j)\n",
    "                    med_dist[j] = std_dist\n",
    "            G.append(G_j)\n",
    "            "
   ]
  }
 ],
 "metadata": {
  "kernelspec": {
   "display_name": "Python 2",
   "language": "python",
   "name": "python2"
  },
  "language_info": {
   "codemirror_mode": {
    "name": "ipython",
    "version": 2
   },
   "file_extension": ".py",
   "mimetype": "text/x-python",
   "name": "python",
   "nbconvert_exporter": "python",
   "pygments_lexer": "ipython2",
   "version": "2.7.15"
  }
 },
 "nbformat": 4,
 "nbformat_minor": 2
}
