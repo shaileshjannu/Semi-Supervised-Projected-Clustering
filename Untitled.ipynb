{
 "cells": [
  {
   "cell_type": "code",
   "execution_count": 9,
   "metadata": {},
   "outputs": [
    {
     "name": "stdout",
     "output_type": "stream",
     "text": [
      "1\n"
     ]
    }
   ],
   "source": [
    "def try_if(m, first = False):\n",
    "    if first:\n",
    "        m = 1\n",
    "    print(m)\n",
    "    \n",
    "try_if(2, True)"
   ]
  },
  {
   "cell_type": "code",
   "execution_count": null,
   "metadata": {
    "collapsed": true
   },
   "outputs": [],
   "source": [
    "-"
   ]
  },
  {
   "cell_type": "code",
   "execution_count": 14,
   "metadata": {},
   "outputs": [
    {
     "data": {
      "text/plain": [
       "<bound method DataFrame.append of    0  1  2  3\n",
       "0  1  2  3  5\n",
       "1  2  4  5  6\n",
       "2  2  4  6  8>"
      ]
     },
     "execution_count": 14,
     "metadata": {},
     "output_type": "execute_result"
    }
   ],
   "source": [
    "import pandas as pd\n",
    "\n",
    "try_list = {1:[[1,2,3,5],\n",
    "              [2,4,5,6]],\n",
    "           2:[[4,6,8,10,15]],\n",
    "           3:[[109,24,53]]}\n",
    "\n",
    "try_list[1].append([2,4,6,8])\n",
    "\n",
    "try_df = pd.DataFrame(try_list[1])\n",
    "\n",
    "try_df.append"
   ]
  },
  {
   "cell_type": "code",
   "execution_count": 23,
   "metadata": {},
   "outputs": [
    {
     "data": {
      "text/html": [
       "<div>\n",
       "<style>\n",
       "    .dataframe thead tr:only-child th {\n",
       "        text-align: right;\n",
       "    }\n",
       "\n",
       "    .dataframe thead th {\n",
       "        text-align: left;\n",
       "    }\n",
       "\n",
       "    .dataframe tbody tr th {\n",
       "        vertical-align: top;\n",
       "    }\n",
       "</style>\n",
       "<table border=\"1\" class=\"dataframe\">\n",
       "  <thead>\n",
       "    <tr style=\"text-align: right;\">\n",
       "      <th></th>\n",
       "      <th>0</th>\n",
       "      <th>1</th>\n",
       "      <th>2</th>\n",
       "      <th>3</th>\n",
       "      <th>4</th>\n",
       "    </tr>\n",
       "  </thead>\n",
       "  <tbody>\n",
       "    <tr>\n",
       "      <th>0</th>\n",
       "      <td>NaN</td>\n",
       "      <td>1.0</td>\n",
       "      <td>2.0</td>\n",
       "      <td>5.0</td>\n",
       "      <td>1239.0</td>\n",
       "    </tr>\n",
       "    <tr>\n",
       "      <th>1</th>\n",
       "      <td>NaN</td>\n",
       "      <td>2.0</td>\n",
       "      <td>3.0</td>\n",
       "      <td>2.0</td>\n",
       "      <td>34.0</td>\n",
       "    </tr>\n",
       "    <tr>\n",
       "      <th>2</th>\n",
       "      <td>NaN</td>\n",
       "      <td>3.0</td>\n",
       "      <td>4.0</td>\n",
       "      <td>4.0</td>\n",
       "      <td>23.0</td>\n",
       "    </tr>\n",
       "    <tr>\n",
       "      <th>3</th>\n",
       "      <td>NaN</td>\n",
       "      <td>4.0</td>\n",
       "      <td>1.0</td>\n",
       "      <td>5.0</td>\n",
       "      <td>41.0</td>\n",
       "    </tr>\n",
       "    <tr>\n",
       "      <th>4</th>\n",
       "      <td>NaN</td>\n",
       "      <td>5.0</td>\n",
       "      <td>3.0</td>\n",
       "      <td>2.0</td>\n",
       "      <td>1.0</td>\n",
       "    </tr>\n",
       "    <tr>\n",
       "      <th>0</th>\n",
       "      <td>1.0</td>\n",
       "      <td>NaN</td>\n",
       "      <td>NaN</td>\n",
       "      <td>NaN</td>\n",
       "      <td>NaN</td>\n",
       "    </tr>\n",
       "    <tr>\n",
       "      <th>1</th>\n",
       "      <td>2.0</td>\n",
       "      <td>NaN</td>\n",
       "      <td>NaN</td>\n",
       "      <td>NaN</td>\n",
       "      <td>NaN</td>\n",
       "    </tr>\n",
       "    <tr>\n",
       "      <th>2</th>\n",
       "      <td>3.0</td>\n",
       "      <td>NaN</td>\n",
       "      <td>NaN</td>\n",
       "      <td>NaN</td>\n",
       "      <td>NaN</td>\n",
       "    </tr>\n",
       "    <tr>\n",
       "      <th>3</th>\n",
       "      <td>6.0</td>\n",
       "      <td>NaN</td>\n",
       "      <td>NaN</td>\n",
       "      <td>NaN</td>\n",
       "      <td>NaN</td>\n",
       "    </tr>\n",
       "    <tr>\n",
       "      <th>4</th>\n",
       "      <td>7.0</td>\n",
       "      <td>NaN</td>\n",
       "      <td>NaN</td>\n",
       "      <td>NaN</td>\n",
       "      <td>NaN</td>\n",
       "    </tr>\n",
       "  </tbody>\n",
       "</table>\n",
       "</div>"
      ],
      "text/plain": [
       "     0    1    2    3       4\n",
       "0  NaN  1.0  2.0  5.0  1239.0\n",
       "1  NaN  2.0  3.0  2.0    34.0\n",
       "2  NaN  3.0  4.0  4.0    23.0\n",
       "3  NaN  4.0  1.0  5.0    41.0\n",
       "4  NaN  5.0  3.0  2.0     1.0\n",
       "0  1.0  NaN  NaN  NaN     NaN\n",
       "1  2.0  NaN  NaN  NaN     NaN\n",
       "2  3.0  NaN  NaN  NaN     NaN\n",
       "3  6.0  NaN  NaN  NaN     NaN\n",
       "4  7.0  NaN  NaN  NaN     NaN"
      ]
     },
     "execution_count": 23,
     "metadata": {},
     "output_type": "execute_result"
    }
   ],
   "source": [
    "def column(matrix, i):\n",
    "    return [row[i] for row in matrix]\n",
    "\n",
    "data = {1:[1,2,3,4,5],\n",
    "        2:[2,3,4,1,3],\n",
    "        3:[5,2,4,5,2],\n",
    "        4:[1239,34,23,41,1]}\n",
    "import pandas as pd\n",
    "data = pd.DataFrame(data)\n",
    "\n",
    "data.append([1,2,3,6,7])"
   ]
  },
  {
   "cell_type": "code",
   "execution_count": 11,
   "metadata": {},
   "outputs": [
    {
     "data": {
      "text/html": [
       "<div>\n",
       "<style>\n",
       "    .dataframe thead tr:only-child th {\n",
       "        text-align: right;\n",
       "    }\n",
       "\n",
       "    .dataframe thead th {\n",
       "        text-align: left;\n",
       "    }\n",
       "\n",
       "    .dataframe tbody tr th {\n",
       "        vertical-align: top;\n",
       "    }\n",
       "</style>\n",
       "<table border=\"1\" class=\"dataframe\">\n",
       "  <thead>\n",
       "    <tr style=\"text-align: right;\">\n",
       "      <th></th>\n",
       "      <th>1</th>\n",
       "      <th>2</th>\n",
       "    </tr>\n",
       "  </thead>\n",
       "  <tbody>\n",
       "    <tr>\n",
       "      <th>0</th>\n",
       "      <td>2</td>\n",
       "      <td>3</td>\n",
       "    </tr>\n",
       "    <tr>\n",
       "      <th>1</th>\n",
       "      <td>3</td>\n",
       "      <td>4</td>\n",
       "    </tr>\n",
       "    <tr>\n",
       "      <th>2</th>\n",
       "      <td>2</td>\n",
       "      <td>4</td>\n",
       "    </tr>\n",
       "    <tr>\n",
       "      <th>3</th>\n",
       "      <td>34</td>\n",
       "      <td>23</td>\n",
       "    </tr>\n",
       "  </tbody>\n",
       "</table>\n",
       "</div>"
      ],
      "text/plain": [
       "    1   2\n",
       "0   2   3\n",
       "1   3   4\n",
       "2   2   4\n",
       "3  34  23"
      ]
     },
     "execution_count": 11,
     "metadata": {},
     "output_type": "execute_result"
    }
   ],
   "source": [
    "data_2 = [[1,2,3,4,5],\n",
    "        [2,3,4,1,3],\n",
    "        [5,2,4,5,2],\n",
    "        [1239,34,23,41,1]]\n",
    "data_2 = pd.DataFrame(data_2)\n",
    "\n",
    "data_2[[1,2]]"
   ]
  },
  {
   "cell_type": "code",
   "execution_count": 50,
   "metadata": {},
   "outputs": [
    {
     "data": {
      "text/plain": [
       "4"
      ]
     },
     "execution_count": 50,
     "metadata": {},
     "output_type": "execute_result"
    }
   ],
   "source": [
    "import numpy as np\n",
    "list_1 = [2,3,4,1,5]\n",
    "\n",
    "np.argmax(list_1)"
   ]
  },
  {
   "cell_type": "code",
   "execution_count": 44,
   "metadata": {},
   "outputs": [
    {
     "data": {
      "text/html": [
       "<div>\n",
       "<style>\n",
       "    .dataframe thead tr:only-child th {\n",
       "        text-align: right;\n",
       "    }\n",
       "\n",
       "    .dataframe thead th {\n",
       "        text-align: left;\n",
       "    }\n",
       "\n",
       "    .dataframe tbody tr th {\n",
       "        vertical-align: top;\n",
       "    }\n",
       "</style>\n",
       "<table border=\"1\" class=\"dataframe\">\n",
       "  <thead>\n",
       "    <tr style=\"text-align: right;\">\n",
       "      <th></th>\n",
       "      <th>0</th>\n",
       "    </tr>\n",
       "  </thead>\n",
       "  <tbody>\n",
       "    <tr>\n",
       "      <th>0</th>\n",
       "      <td>2</td>\n",
       "    </tr>\n",
       "    <tr>\n",
       "      <th>1</th>\n",
       "      <td>3</td>\n",
       "    </tr>\n",
       "  </tbody>\n",
       "</table>\n",
       "</div>"
      ],
      "text/plain": [
       "   0\n",
       "0  2\n",
       "1  3"
      ]
     },
     "execution_count": 44,
     "metadata": {},
     "output_type": "execute_result"
    }
   ],
   "source": [
    "data_3 = [2,3]\n",
    "\n",
    "data_3 = pd.DataFrame(data_3)\n",
    "\n",
    "data_3"
   ]
  },
  {
   "cell_type": "code",
   "execution_count": 68,
   "metadata": {},
   "outputs": [
    {
     "name": "stdout",
     "output_type": "stream",
     "text": [
      "{0: []}\n",
      "{0: [], 1: []}\n",
      "{0: [], 1: [], 2: []}\n"
     ]
    },
    {
     "data": {
      "text/plain": [
       "{0: [], 1: [], 2: [1, 3, 4, 5, 6]}"
      ]
     },
     "execution_count": 68,
     "metadata": {},
     "output_type": "execute_result"
    }
   ],
   "source": [
    "data_k = {}\n",
    "for k in range(3):\n",
    "    data_k.update({k:[]})\n",
    "    print(data_k)\n",
    "\n",
    "    \n",
    "data_k[2] = [1,3,4,5,6]\n",
    "data_k"
   ]
  },
  {
   "cell_type": "code",
   "execution_count": null,
   "metadata": {
    "collapsed": true
   },
   "outputs": [],
   "source": [
    "import numpy as np\n",
    "from sklearn.cluster import KMeans\n",
    "\n",
    "######################### K-Medoids\n",
    "\n",
    "def assign_nearest(ids_of_mediods):\n",
    "    dists = dist(x[:,None,:], x[None,ids_of_mediods,:])\n",
    "    return np.argmin(dists, axis=1)\n",
    "\n",
    "\n",
    "def dist(xa, xb):\n",
    "    if EUCLIDEAN:\n",
    "        return np.sqrt(np.sum(np.square(xa-xb), axis=-1))\n",
    "    else:\n",
    "        return np.sum(np.abs(xa - xb), axis=-1)\n",
    "\n",
    "\n",
    "def find_medoids(assignments):\n",
    "    medoid_ids = np.full(k, -1, dtype=int)\n",
    "    subset = np.random.choice(n, batch_sz, replace=False)\n",
    "\n",
    "    for i in range(k):\n",
    "        indices = np.intersect1d(np.where(assignments==i)[0], subset)\n",
    "        distances = dist(x[indices, None, :], x[None, indices, :]).sum(axis=0)\n",
    "        medoid_ids[i] = indices[np.argmin(distances)]\n",
    "\n",
    "    return medoid_ids\n",
    "\n",
    "\n",
    "def kmeds(iterations=20):\n",
    "    print(\"Initializing to random medoids.\")\n",
    "    ids_of_medoids = np.random.choice(n, k, replace=False)\n",
    "    class_assignments = assign_nearest(ids_of_medoids)\n",
    "\n",
    "    for i in range(iterations):\n",
    "        print(\"\\tFinding new medoids.\")\n",
    "        ids_of_medoids = find_medoids(class_assignments)\n",
    "        print(\"\\tReassigning points.\")\n",
    "        new_class_assignments = assign_nearest(ids_of_medoids)\n",
    "\n",
    "        diffs = np.mean(new_class_assignments != class_assignments)\n",
    "        class_assignments = new_class_assignments\n",
    "\n",
    "        print(\"iteration {:2d}: {:.2%} of points got reassigned.\"\n",
    "              \"\".format(i, diffs))\n",
    "        if diffs <= 0.01:\n",
    "            break\n",
    "\n",
    "    return class_assignments, ids_of_medoids\n",
    "\n",
    "\n",
    "######################### Generate Fake Data\n",
    "print(\"Initializing Data.\")\n",
    "d = 3\n",
    "k = 6\n",
    "n = k * 1000000\n",
    "batch_sz = 1000\n",
    "x = np.random.normal(size=(n, d))\n",
    "EUCLIDEAN = False\n",
    "\n",
    "print(\"n={}\\td={}\\tk={}\\tbatch_size={} \".format(n, d, k, batch_sz))\n",
    "print(\"Distance metric: \", \"Eucledian\" if EUCLIDEAN else \"Manhattan\")\n",
    "\n",
    "print(\"\\nMaking k-groups as:\")\n",
    "for kk in range(k):\n",
    "    dd = (kk-1)%d\n",
    "    print(\"    x[{}:{}, {}] += {}\".format(kk*n//k, (kk+1)*n//k, dd , 3*d*kk))\n",
    "    x[kk*n//k:(kk+1)*n//k,dd] += 3*d*kk\n",
    "\n",
    "######################### Fitting\n",
    "print(\"\\nFitting Kmedoids.\")\n",
    "final_assignments, final_medoid_ids = kmeds()\n",
    "\n",
    "print(\"\\nFitting Kmeans from Scikit-Learn\")\n",
    "fit = KMeans(n_clusters=k).fit(x)\n",
    "kmeans_assignments = fit.labels_\n",
    "kmeans = fit.cluster_centers_\n",
    "\n",
    "mismatch = np.zeros((k, k))\n",
    "for i, m in (zip(final_assignments, kmeans_assignments)):\n",
    "    mismatch[i, m] += 1\n",
    "\n",
    "np.set_printoptions(suppress=True)\n",
    "print(\"\\nKMedoids:\")\n",
    "print(x[final_medoid_ids, ])\n",
    "print(\"K-Medoids class sizes:\")\n",
    "print(mismatch.sum(axis=-1))\n",
    "print(\"\\nKMeans:\")\n",
    "print(kmeans)\n",
    "print(\"K-Means class sizes:\")\n",
    "print(mismatch.sum(axis=0))\n",
    "print(\"\\nMismatch between assignment to Kmeans and Kmedoids:\")\n",
    "print(mismatch)\n",
    "print(\"Should ideally be {} * a permutation matrix.\".format(n//k))"
   ]
  },
  {
   "cell_type": "code",
   "execution_count": null,
   "metadata": {
    "collapsed": true
   },
   "outputs": [],
   "source": [
    "import numpy as np\n",
    "import random\n",
    "\n",
    "def kMedoids(D, k, tmax=100):\n",
    "    # determine dimensions of distance matrix D\n",
    "    m, n = D.shape\n",
    "\n",
    "    if k > n:\n",
    "        raise Exception('too many medoids')\n",
    "\n",
    "    # find a set of valid initial cluster medoid indices since we\n",
    "    # can't seed different clusters with two points at the same location\n",
    "    valid_medoid_inds = set(range(n))\n",
    "    invalid_medoid_inds = set([])\n",
    "    rs,cs = np.where(D==0)\n",
    "    # the rows, cols must be shuffled because we will keep the first duplicate below\n",
    "    index_shuf = range(len(rs))\n",
    "    np.random.shuffle(index_shuf)\n",
    "    rs = rs[index_shuf]\n",
    "    cs = cs[index_shuf]\n",
    "    for r,c in zip(rs,cs):\n",
    "        # if there are two points with a distance of 0...\n",
    "        # keep the first one for cluster init\n",
    "        if r < c and r not in invalid_medoid_inds:\n",
    "            invalid_medoid_inds.add(c)\n",
    "    valid_medoid_inds = list(valid_medoid_inds - invalid_medoid_inds)\n",
    "\n",
    "    if k > len(valid_medoid_inds):\n",
    "        raise Exception('too many medoids (after removing {} duplicate points)'.format(\n",
    "            len(invalid_medoid_inds)))\n",
    "\n",
    "    # randomly initialize an array of k medoid indices\n",
    "    M = np.array(valid_medoid_inds)\n",
    "    np.random.shuffle(M)\n",
    "    M = np.sort(M[:k])\n",
    "\n",
    "    # create a copy of the array of medoid indices\n",
    "    Mnew = np.copy(M)\n",
    "\n",
    "    # initialize a dictionary to represent clusters\n",
    "    C = {}\n",
    "    for t in xrange(tmax):\n",
    "        # determine clusters, i. e. arrays of data indices\n",
    "        J = np.argmin(D[:,M], axis=1)\n",
    "        for kappa in range(k):\n",
    "            C[kappa] = np.where(J==kappa)[0]\n",
    "        # update cluster medoids\n",
    "        for kappa in range(k):\n",
    "            J = np.mean(D[np.ix_(C[kappa],C[kappa])],axis=1)\n",
    "            j = np.argmin(J)\n",
    "            Mnew[kappa] = C[kappa][j]\n",
    "        np.sort(Mnew)\n",
    "        # check for convergence\n",
    "        if np.array_equal(M, Mnew):\n",
    "            break\n",
    "        M = np.copy(Mnew)\n",
    "    else:\n",
    "        # final update of cluster memberships\n",
    "        J = np.argmin(D[:,M], axis=1)\n",
    "        for kappa in range(k):\n",
    "            C[kappa] = np.where(J==kappa)[0]\n",
    "\n",
    "    # return results\n",
    "    return M, C"
   ]
  }
 ],
 "metadata": {
  "kernelspec": {
   "display_name": "Python 3",
   "language": "python",
   "name": "python3"
  },
  "language_info": {
   "codemirror_mode": {
    "name": "ipython",
    "version": 3
   },
   "file_extension": ".py",
   "mimetype": "text/x-python",
   "name": "python",
   "nbconvert_exporter": "python",
   "pygments_lexer": "ipython3",
   "version": "3.6.3"
  }
 },
 "nbformat": 4,
 "nbformat_minor": 2
}
